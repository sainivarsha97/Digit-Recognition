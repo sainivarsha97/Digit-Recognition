{
 "cells": [
  {
   "cell_type": "code",
   "execution_count": 1,
   "metadata": {},
   "outputs": [
    {
     "name": "stderr",
     "output_type": "stream",
     "text": [
      "C:\\Users\\Varsha\\Anaconda3\\lib\\site-packages\\h5py\\__init__.py:36: FutureWarning: Conversion of the second argument of issubdtype from `float` to `np.floating` is deprecated. In future, it will be treated as `np.float64 == np.dtype(float).type`.\n",
      "  from ._conv import register_converters as _register_converters\n",
      "Using TensorFlow backend.\n"
     ]
    }
   ],
   "source": [
    "import numpy as np\n",
    "from keras.datasets import mnist\n",
    "import matplotlib.pyplot as plt\n",
    "from keras.utils import to_categorical \n",
    "%matplotlib inline"
   ]
  },
  {
   "cell_type": "code",
   "execution_count": 2,
   "metadata": {},
   "outputs": [],
   "source": [
    "(trainX,trainY),(testX,testY) = mnist.load_data() "
   ]
  },
  {
   "cell_type": "code",
   "execution_count": 3,
   "metadata": {},
   "outputs": [
    {
     "data": {
      "image/png": "[encoded data removed]",
      "text/plain": [
       "<matplotlib.figure.Figure at 0x297f243a710>"
      ]
     },
     "metadata": {},
     "output_type": "display_data"
    }
   ],
   "source": [
    "plt.figure(figsize=[16,16])\n",
    "plt.subplot(121)\n",
    "plt.imshow(trainX[12,:,:])\n",
    "plt.title(trainY[12])\n",
    "plt.subplot(122)\n",
    "plt.imshow(testX[12,:,:]) \n",
    "plt.title(testY[12])\n",
    "plt.show()"
   ]
  },
  {
   "cell_type": "code",
   "execution_count": 4,
   "metadata": {},
   "outputs": [],
   "source": [
    "trainX = trainX.reshape(trainX.shape[0],28,28,1)\n",
    "testX = testX.reshape(testX.shape[0],28,28,1) "
   ]
  },
  {
   "cell_type": "code",
   "execution_count": 5,
   "metadata": {},
   "outputs": [],
   "source": [
    "trainX = trainX.astype('float32')\n",
    "testX = testX.astype('float32')\n",
    "trainX = trainX/255\n",
    "testX = testX/255"
   ]
  },
  {
   "cell_type": "code",
   "execution_count": 6,
   "metadata": {},
   "outputs": [],
   "source": [
    "train_y_one_hot = to_categorical(trainY)\n",
    "test_y_one_hot = to_categorical(testY)"
   ]
  },
  {
   "cell_type": "code",
   "execution_count": 7,
   "metadata": {},
   "outputs": [],
   "source": [
    "from sklearn.model_selection import train_test_split\n",
    "trainX,valid_X,train_label,valid_label = train_test_split(trainX, train_y_one_hot, test_size=0.2, random_state=13)"
   ]
  },
  {
   "cell_type": "code",
   "execution_count": 8,
   "metadata": {},
   "outputs": [
    {
     "data": {
      "text/plain": [
       "((48000, 28, 28, 1), (12000, 28, 28, 1), (48000, 10), (12000, 10))"
      ]
     },
     "execution_count": 8,
     "metadata": {},
     "output_type": "execute_result"
    }
   ],
   "source": [
    "trainX.shape,valid_X.shape,train_label.shape,valid_label.shape"
   ]
  },
  {
   "cell_type": "code",
   "execution_count": 10,
   "metadata": {},
   "outputs": [],
   "source": [
    "import keras\n",
    "from keras.models import Sequential, Input , Model\n",
    "from keras.layers import Dense,Dropout,Flatten\n",
    "from keras.layers.normalization import BatchNormalization\n",
    "from keras.layers.advanced_activations import LeakyReLU\n",
    "from keras.layers import Conv2D,MaxPooling2D\n"
   ]
  },
  {
   "cell_type": "code",
   "execution_count": 11,
   "metadata": {},
   "outputs": [
    {
     "data": {
      "text/plain": [
       "(28, 28, 1)"
      ]
     },
     "execution_count": 11,
     "metadata": {},
     "output_type": "execute_result"
    }
   ],
   "source": [
    "batch_size = 128 \n",
    "epochs = 25 \n",
    "num_classes = 10 \n",
    "trainX[0].shape"
   ]
  },
  {
   "cell_type": "code",
   "execution_count": 24,
   "metadata": {},
   "outputs": [],
   "source": [
    "train_model = Sequential() \n",
    "train_model.add(Conv2D(32,kernel_size=(3,3),activation='linear',input_shape=(28,28,1),padding='same'))\n",
    "train_model.add(LeakyReLU(alpha=0.1))\n",
    "train_model.add(MaxPooling2D((2,2),padding='same'))\n",
    "train_model.add(Conv2D(64,(3,3),activation='linear',padding='same'))\n",
    "train_model.add(LeakyReLU(alpha=0.1))\n",
    "train_model.add(MaxPooling2D(pool_size=(2,2),padding='same'))\n",
    "train_model.add(Conv2D(128,(3,3),activation='linear',padding='same'))\n",
    "train_model.add(LeakyReLU(alpha=0.1))\n",
    "train_model.add(MaxPooling2D(pool_size=(2,2),padding='same'))\n",
    "train_model.add(Flatten())\n",
    "train_model.add(Dense(128,activation='linear')) \n",
    "train_model.add(LeakyReLU(alpha=0.1))\n",
    "train_model.add(Dense(num_classes,activation='softmax'))\n"
   ]
  },
  {
   "cell_type": "code",
   "execution_count": 25,
   "metadata": {},
   "outputs": [],
   "source": [
    "train_model.compile(loss=keras.losses.categorical_crossentropy,optimizer=keras.optimizers.Adam(),metrics=['accuracy']) "
   ]
  },
  {
   "cell_type": "code",
   "execution_count": 26,
   "metadata": {},
   "outputs": [
    {
     "name": "stdout",
     "output_type": "stream",
     "text": [
      "_________________________________________________________________\n",
      "Layer (type)                 Output Shape              Param #   \n",
      "=================================================================\n",
      "conv2d_11 (Conv2D)           (None, 32, 32, 32)        832       \n",
      "_________________________________________________________________\n",
      "leaky_re_lu_15 (LeakyReLU)   (None, 32, 32, 32)        0         \n",
      "_________________________________________________________________\n",
      "max_pooling2d_11 (MaxPooling (None, 16, 16, 32)        0         \n",
      "_________________________________________________________________\n",
      "conv2d_12 (Conv2D)           (None, 16, 16, 64)        51264     \n",
      "_________________________________________________________________\n",
      "leaky_re_lu_16 (LeakyReLU)   (None, 16, 16, 64)        0         \n",
      "_________________________________________________________________\n",
      "max_pooling2d_12 (MaxPooling (None, 8, 8, 64)          0         \n",
      "_________________________________________________________________\n",
      "flatten_5 (Flatten)          (None, 4096)              0         \n",
      "_________________________________________________________________\n",
      "dense_9 (Dense)              (None, 1024)              4195328   \n",
      "_________________________________________________________________\n",
      "leaky_re_lu_17 (LeakyReLU)   (None, 1024)              0         \n",
      "_________________________________________________________________\n",
      "dense_10 (Dense)             (None, 10)                10250     \n",
      "=================================================================\n",
      "Total params: 4,257,674\n",
      "Trainable params: 4,257,674\n",
      "Non-trainable params: 0\n",
      "_________________________________________________________________\n"
     ]
    }
   ],
   "source": [
    "train_model.summary()"
   ]
  },
  {
   "cell_type": "code",
   "execution_count": 14,
   "metadata": {},
   "outputs": [
    {
     "name": "stdout",
     "output_type": "stream",
     "text": [
      "Train on 48000 samples, validate on 12000 samples\n",
      "Epoch 1/25\n",
      "48000/48000 [==============================] - 761s 16ms/step - loss: 0.2066 - acc: 0.9358 - val_loss: 0.0756 - val_acc: 0.9768\n",
      "Epoch 2/25\n",
      "48000/48000 [==============================] - 573s 12ms/step - loss: 0.0524 - acc: 0.9836 - val_loss: 0.0493 - val_acc: 0.9847\n",
      "Epoch 3/25\n",
      "48000/48000 [==============================] - 448s 9ms/step - loss: 0.0390 - acc: 0.9874 - val_loss: 0.0386 - val_acc: 0.9889\n",
      "Epoch 4/25\n",
      "48000/48000 [==============================] - 279s 6ms/step - loss: 0.0260 - acc: 0.9918 - val_loss: 0.0316 - val_acc: 0.9902\n",
      "Epoch 5/25\n",
      "48000/48000 [==============================] - 225s 5ms/step - loss: 0.0208 - acc: 0.9930 - val_loss: 0.0354 - val_acc: 0.9898\n",
      "Epoch 6/25\n",
      "48000/48000 [==============================] - 152s 3ms/step - loss: 0.0163 - acc: 0.9948 - val_loss: 0.0396 - val_acc: 0.9880\n",
      "Epoch 7/25\n",
      "48000/48000 [==============================] - 151s 3ms/step - loss: 0.0135 - acc: 0.9956 - val_loss: 0.0385 - val_acc: 0.9898\n",
      "Epoch 8/25\n",
      "48000/48000 [==============================] - 152s 3ms/step - loss: 0.0118 - acc: 0.9959 - val_loss: 0.0372 - val_acc: 0.9892\n",
      "Epoch 9/25\n",
      "48000/48000 [==============================] - 141s 3ms/step - loss: 0.0096 - acc: 0.9969 - val_loss: 0.0369 - val_acc: 0.9905\n",
      "Epoch 10/25\n",
      "48000/48000 [==============================] - 142s 3ms/step - loss: 0.0107 - acc: 0.9965 - val_loss: 0.0393 - val_acc: 0.9900\n",
      "Epoch 11/25\n",
      "48000/48000 [==============================] - 140s 3ms/step - loss: 0.0080 - acc: 0.9969 - val_loss: 0.0337 - val_acc: 0.9922\n",
      "Epoch 12/25\n",
      "48000/48000 [==============================] - 143s 3ms/step - loss: 0.0067 - acc: 0.9979 - val_loss: 0.0414 - val_acc: 0.9891\n",
      "Epoch 13/25\n",
      "48000/48000 [==============================] - 140s 3ms/step - loss: 0.0087 - acc: 0.9972 - val_loss: 0.0373 - val_acc: 0.9912\n",
      "Epoch 14/25\n",
      "48000/48000 [==============================] - 135s 3ms/step - loss: 0.0047 - acc: 0.9985 - val_loss: 0.0325 - val_acc: 0.9928\n",
      "Epoch 15/25\n",
      "48000/48000 [==============================] - 134s 3ms/step - loss: 0.0055 - acc: 0.9982 - val_loss: 0.0416 - val_acc: 0.9905\n",
      "Epoch 16/25\n",
      "48000/48000 [==============================] - 136s 3ms/step - loss: 0.0088 - acc: 0.9970 - val_loss: 0.0442 - val_acc: 0.9902\n",
      "Epoch 17/25\n",
      "48000/48000 [==============================] - 132s 3ms/step - loss: 0.0033 - acc: 0.9989 - val_loss: 0.0536 - val_acc: 0.9902\n",
      "Epoch 18/25\n",
      "48000/48000 [==============================] - 131s 3ms/step - loss: 0.0065 - acc: 0.9981 - val_loss: 0.0335 - val_acc: 0.9929\n",
      "Epoch 19/25\n",
      "48000/48000 [==============================] - 131s 3ms/step - loss: 0.0034 - acc: 0.9991 - val_loss: 0.0416 - val_acc: 0.9912\n",
      "Epoch 20/25\n",
      "48000/48000 [==============================] - 131s 3ms/step - loss: 0.0046 - acc: 0.9984 - val_loss: 0.0592 - val_acc: 0.9895\n",
      "Epoch 21/25\n",
      "48000/48000 [==============================] - 131s 3ms/step - loss: 0.0065 - acc: 0.9979 - val_loss: 0.0496 - val_acc: 0.9900\n",
      "Epoch 22/25\n",
      "48000/48000 [==============================] - 132s 3ms/step - loss: 0.0022 - acc: 0.9995 - val_loss: 0.0417 - val_acc: 0.9927\n",
      "Epoch 23/25\n",
      "48000/48000 [==============================] - 131s 3ms/step - loss: 0.0016 - acc: 0.9996 - val_loss: 0.0410 - val_acc: 0.9921\n",
      "Epoch 24/25\n",
      "48000/48000 [==============================] - 131s 3ms/step - loss: 0.0013 - acc: 0.9997 - val_loss: 0.0416 - val_acc: 0.9918\n",
      "Epoch 25/25\n",
      "48000/48000 [==============================] - 131s 3ms/step - loss: 0.0092 - acc: 0.9972 - val_loss: 0.0522 - val_acc: 0.9916\n"
     ]
    }
   ],
   "source": [
    "train_digits = train_model.fit(trainX,train_label,batch_size=batch_size,epochs=epochs,verbose=1,validation_data=(valid_X,valid_label))"
   ]
  },
  {
   "cell_type": "code",
   "execution_count": 17,
   "metadata": {},
   "outputs": [],
   "source": [
    "model_json = train_model.to_json()\n",
    "with open(\"mnist.json\", \"w\") as json_file:\n",
    "    json_file.write(model_json)\n",
    "# serialize weights to HDF5\n",
    "train_model.save_weights(\"mnist_weight.h5\")"
   ]
  },
  {
   "cell_type": "code",
   "execution_count": 18,
   "metadata": {},
   "outputs": [
    {
     "name": "stdout",
     "output_type": "stream",
     "text": [
      "10000/10000 [==============================] - 13s 1ms/step\n"
     ]
    }
   ],
   "source": [
    "test_results = train_model.evaluate(testX,test_y_one_hot)"
   ]
  },
  {
   "cell_type": "code",
   "execution_count": 19,
   "metadata": {},
   "outputs": [
    {
     "data": {
      "text/plain": [
       "(0.9906, 0.044176817938306974)"
      ]
     },
     "execution_count": 19,
     "metadata": {},
     "output_type": "execute_result"
    }
   ],
   "source": [
    "test_results[1],test_results[0] "
   ]
  },
  {
   "cell_type": "code",
   "execution_count": 9,
   "metadata": {},
   "outputs": [
    {
     "name": "stdout",
     "output_type": "stream",
     "text": [
      "Loaded model from disk\n"
     ]
    }
   ],
   "source": [
    "from keras.models import model_from_json\n",
    "json_file = open('mnist.json', 'r')\n",
    "loaded_model_json = json_file.read()\n",
    "json_file.close()\n",
    "loaded_model = model_from_json(loaded_model_json)\n",
    "# load weights into new model\n",
    "loaded_model.load_weights(\"mnist_weight.h5\")\n",
    "print(\"Loaded model from disk\")\n",
    " \n",
    "# evaluate loaded model on test data\n",
    "loaded_model.compile(loss='binary_crossentropy', optimizer='rmsprop', metrics=['accuracy'])\n",
    "score = loaded_model.evaluate(testX, test_y_one_hot, verbose=0)"
   ]
  },
  {
   "cell_type": "code",
   "execution_count": 10,
   "metadata": {},
   "outputs": [
    {
     "data": {
      "text/plain": [
       "[0.00852380002623354, 0.9981099966049194]"
      ]
     },
     "execution_count": 10,
     "metadata": {},
     "output_type": "execute_result"
    }
   ],
   "source": [
    "score\n"
   ]
  },
  {
   "cell_type": "code",
   "execution_count": 12,
   "metadata": {},
   "outputs": [],
   "source": [
    "import matplotlib.pyplot as plt\n",
    "import cv2\n",
    "img = cv2.imread(\"1.jpg\") \n",
    "img = cv2.cvtColor( img, cv2.COLOR_RGB2GRAY ) \n",
    "resized = cv2.resize(img, (28,28), interpolation = cv2.INTER_AREA)\n",
    "resized = cv2.bitwise_not(resized) \n",
    "resized = resized/255"
   ]
  },
  {
   "cell_type": "code",
   "execution_count": 13,
   "metadata": {},
   "outputs": [
    {
     "data": {
      "text/plain": [
       "<matplotlib.image.AxesImage at 0x297857c4400>"
      ]
     },
     "execution_count": 13,
     "metadata": {},
     "output_type": "execute_result"
    },
    {
     "data": {
      "image/png": "[encoded data removed]",
      "text/plain": [
       "<matplotlib.figure.Figure at 0x29785764710>"
      ]
     },
     "metadata": {},
     "output_type": "display_data"
    }
   ],
   "source": [
    "plt.imshow(resized)"
   ]
  },
  {
   "cell_type": "code",
   "execution_count": 14,
   "metadata": {},
   "outputs": [],
   "source": [
    "import numpy as np\n",
    "resized = resized.reshape(28,28,1)\n",
    "resized  = np.expand_dims(resized,axis=0)"
   ]
  },
  {
   "cell_type": "code",
   "execution_count": 15,
   "metadata": {},
   "outputs": [],
   "source": [
    "resn = loaded_model.predict_classes(resized)"
   ]
  },
  {
   "cell_type": "code",
   "execution_count": 16,
   "metadata": {},
   "outputs": [
    {
     "data": {
      "text/plain": [
       "array([1], dtype=int64)"
      ]
     },
     "execution_count": 16,
     "metadata": {},
     "output_type": "execute_result"
    }
   ],
   "source": [
    "resn"
   ]
  },
  {
   "cell_type": "code",
   "execution_count": null,
   "metadata": {},
   "outputs": [],
   "source": []
  },
  {
   "cell_type": "code",
   "execution_count": null,
   "metadata": {},
   "outputs": [],
   "source": []
  },
  {
   "cell_type": "code",
   "execution_count": null,
   "metadata": {},
   "outputs": [],
   "source": []
  }
 ],
 "metadata": {
  "kernelspec": {
   "display_name": "Python 3",
   "language": "python",
   "name": "python3"
  },
  "language_info": {
   "codemirror_mode": {
    "name": "ipython",
    "version": 3
   },
   "file_extension": ".py",
   "mimetype": "text/x-python",
   "name": "python",
   "nbconvert_exporter": "python",
   "pygments_lexer": "ipython3",
   "version": "3.6.5"
  }
 },
 "nbformat": 4,
 "nbformat_minor": 2
}
